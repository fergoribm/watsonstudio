{
    "nbformat_minor": 1, 
    "cells": [
        {
            "source": "\nimport sys\nimport types\nimport pandas as pd\nfrom botocore.client import Config\nimport ibm_boto3\n\ndef __iter__(self): return 0\n\n# @hidden_cell\n# The following code accesses a file in your IBM Cloud Object Storage. It includes your credentials.\n# You might want to remove those credentials before you share your notebook.\nclient_176353a848a541b49d8dddca6f1c97e8 = ibm_boto3.client(service_name='s3',\n    ibm_api_key_id='XMhBv5KCHIRiRyY88DVsG6YqUuBlVnnJZLzZA4Tdqddm',\n    ibm_auth_endpoint=\"https://iam.ng.bluemix.net/oidc/token\",\n    config=Config(signature_version='oauth'),\n    endpoint_url='https://s3-api.us-geo.objectstorage.service.networklayer.com')\n\nbody = client_176353a848a541b49d8dddca6f1c97e8.get_object(Bucket='fastwebdemo1-donotdelete-pr-uzgzpvgglgsezj',Key='GoSales_data.csv')['Body']\n# add missing __iter__ method, so pandas accepts body as file-like object\nif not hasattr(body, \"__iter__\"): body.__iter__ = types.MethodType( __iter__, body )\n\ndf_data_2 = pd.read_csv(body)\ndf_data_2.head()\n\n", 
            "cell_type": "code", 
            "metadata": {}, 
            "outputs": [
                {
                    "output_type": "execute_result", 
                    "data": {
                        "text/plain": "  GENDER  AGE MARITAL_STATUS    PROFESSION              PRODUCT_LINE\n0      M   27         Single  Professional      Personal Accessories\n1      F   39         Single     Executive      Personal Accessories\n2      M   39        Married       Student  Mountaineering Equipment\n3      F   56         Single   Hospitality      Personal Accessories\n4      M   45        Married       Retired            Golf Equipment", 
                        "text/html": "<div>\n<style scoped>\n    .dataframe tbody tr th:only-of-type {\n        vertical-align: middle;\n    }\n\n    .dataframe tbody tr th {\n        vertical-align: top;\n    }\n\n    .dataframe thead th {\n        text-align: right;\n    }\n</style>\n<table border=\"1\" class=\"dataframe\">\n  <thead>\n    <tr style=\"text-align: right;\">\n      <th></th>\n      <th>GENDER</th>\n      <th>AGE</th>\n      <th>MARITAL_STATUS</th>\n      <th>PROFESSION</th>\n      <th>PRODUCT_LINE</th>\n    </tr>\n  </thead>\n  <tbody>\n    <tr>\n      <th>0</th>\n      <td>M</td>\n      <td>27</td>\n      <td>Single</td>\n      <td>Professional</td>\n      <td>Personal Accessories</td>\n    </tr>\n    <tr>\n      <th>1</th>\n      <td>F</td>\n      <td>39</td>\n      <td>Single</td>\n      <td>Executive</td>\n      <td>Personal Accessories</td>\n    </tr>\n    <tr>\n      <th>2</th>\n      <td>M</td>\n      <td>39</td>\n      <td>Married</td>\n      <td>Student</td>\n      <td>Mountaineering Equipment</td>\n    </tr>\n    <tr>\n      <th>3</th>\n      <td>F</td>\n      <td>56</td>\n      <td>Single</td>\n      <td>Hospitality</td>\n      <td>Personal Accessories</td>\n    </tr>\n    <tr>\n      <th>4</th>\n      <td>M</td>\n      <td>45</td>\n      <td>Married</td>\n      <td>Retired</td>\n      <td>Golf Equipment</td>\n    </tr>\n  </tbody>\n</table>\n</div>"
                    }, 
                    "execution_count": 1, 
                    "metadata": {}
                }
            ], 
            "execution_count": 1
        }, 
        {
            "source": "Un po di informazioni sul data set", 
            "cell_type": "markdown", 
            "metadata": {}
        }, 
        {
            "source": "# cosa \u00e8?\ntype(df_data_2)\n", 
            "cell_type": "code", 
            "metadata": {}, 
            "outputs": [
                {
                    "output_type": "execute_result", 
                    "data": {
                        "text/plain": "pandas.core.frame.DataFrame"
                    }, 
                    "execution_count": 6, 
                    "metadata": {}
                }
            ], 
            "execution_count": 6
        }, 
        {
            "source": "#quali colonne ha? \n\ndf_data_2.columns.values.tolist()\n", 
            "cell_type": "code", 
            "metadata": {}, 
            "outputs": [
                {
                    "output_type": "execute_result", 
                    "data": {
                        "text/plain": "['GENDER', 'AGE', 'MARITAL_STATUS', 'PROFESSION', 'PRODUCT_LINE']"
                    }, 
                    "execution_count": 2, 
                    "metadata": {}
                }
            ], 
            "execution_count": 2
        }, 
        {
            "source": "# quane righe e colonne ha?\n\ndf_data_2.shape", 
            "cell_type": "code", 
            "metadata": {}, 
            "outputs": [
                {
                    "output_type": "execute_result", 
                    "data": {
                        "text/plain": "(90261, 5)"
                    }, 
                    "execution_count": 4, 
                    "metadata": {}
                }
            ], 
            "execution_count": 4
        }, 
        {
            "source": "# vediamo i dati\ndf_data_2\n", 
            "cell_type": "code", 
            "metadata": {}, 
            "outputs": [
                {
                    "output_type": "execute_result", 
                    "data": {
                        "text/plain": "      GENDER  AGE MARITAL_STATUS    PROFESSION              PRODUCT_LINE\n0          M   27         Single  Professional      Personal Accessories\n1          F   39         Single     Executive      Personal Accessories\n2          M   39        Married       Student  Mountaineering Equipment\n3          F   56         Single   Hospitality      Personal Accessories\n4          M   45        Married       Retired            Golf Equipment\n5          M   45        Married       Retired            Golf Equipment\n6          M   39        Married       Student         Camping Equipment\n7          M   49        Married       Student         Camping Equipment\n8          F   49        Married       Retired        Outdoor Protection\n9          M   47        Married       Retired            Golf Equipment\n10         M   47        Married       Retired            Golf Equipment\n11         M   21         Single        Retail  Mountaineering Equipment\n12         F   66         Single     Executive      Personal Accessories\n13         M   35        Married  Professional         Camping Equipment\n14         M   20         Single         Sales  Mountaineering Equipment\n15         M   20         Single         Sales  Mountaineering Equipment\n16         M   20         Single         Sales  Mountaineering Equipment\n17         F   37         Single     Executive      Personal Accessories\n18         M   42        Married       Student         Camping Equipment\n19         M   24        Married        Retail         Camping Equipment\n20         F   24         Single        Retail      Personal Accessories\n21         M   29         Single        Retail  Mountaineering Equipment\n22         M   29        Married        Retail         Camping Equipment\n23         M   43        Married        Trades         Camping Equipment\n24         M   43        Married        Trades         Camping Equipment\n25         M   43        Married   Hospitality         Camping Equipment\n26         M   43        Married   Hospitality         Camping Equipment\n27         M   43        Married   Hospitality         Camping Equipment\n28         M   43        Married   Hospitality         Camping Equipment\n29         M   29         Single       Student  Mountaineering Equipment\n...      ...  ...            ...           ...                       ...\n90231      M   24        Married        Trades         Camping Equipment\n90232      M   24        Married        Trades         Camping Equipment\n90233      F   33        Married       Student         Camping Equipment\n90234      F   33        Married       Student         Camping Equipment\n90235      F   33        Married       Retired        Outdoor Protection\n90236      F   33        Married       Retired        Outdoor Protection\n90237      F   22        Married       Student         Camping Equipment\n90238      F   22        Married       Student         Camping Equipment\n90239      F   43    Unspecified   Hospitality            Golf Equipment\n90240      F   43    Unspecified   Hospitality            Golf Equipment\n90241      F   43    Unspecified   Hospitality            Golf Equipment\n90242      F   43    Unspecified   Hospitality            Golf Equipment\n90243      M   44        Married        Trades         Camping Equipment\n90244      M   44        Married        Trades            Golf Equipment\n90245      M   44        Married        Trades            Golf Equipment\n90246      M   44        Married        Trades         Camping Equipment\n90247      F   26        Married  Professional  Mountaineering Equipment\n90248      F   26        Married  Professional  Mountaineering Equipment\n90249      F   26         Single  Professional      Personal Accessories\n90250      F   28         Single     Executive      Personal Accessories\n90251      F   28         Single     Executive      Personal Accessories\n90252      F   41        Married       Student         Camping Equipment\n90253      F   41        Married       Student         Camping Equipment\n90254      F   41        Married       Student         Camping Equipment\n90255      F   41        Married       Student         Camping Equipment\n90256      M   28         Single  Professional      Personal Accessories\n90257      M   28         Single  Professional      Personal Accessories\n90258      M   28         Single  Professional      Personal Accessories\n90259      F   42         Single     Executive      Personal Accessories\n90260      F   42         Single     Executive      Personal Accessories\n\n[90261 rows x 5 columns]", 
                        "text/html": "<div>\n<style scoped>\n    .dataframe tbody tr th:only-of-type {\n        vertical-align: middle;\n    }\n\n    .dataframe tbody tr th {\n        vertical-align: top;\n    }\n\n    .dataframe thead th {\n        text-align: right;\n    }\n</style>\n<table border=\"1\" class=\"dataframe\">\n  <thead>\n    <tr style=\"text-align: right;\">\n      <th></th>\n      <th>GENDER</th>\n      <th>AGE</th>\n      <th>MARITAL_STATUS</th>\n      <th>PROFESSION</th>\n      <th>PRODUCT_LINE</th>\n    </tr>\n  </thead>\n  <tbody>\n    <tr>\n      <th>0</th>\n      <td>M</td>\n      <td>27</td>\n      <td>Single</td>\n      <td>Professional</td>\n      <td>Personal Accessories</td>\n    </tr>\n    <tr>\n      <th>1</th>\n      <td>F</td>\n      <td>39</td>\n      <td>Single</td>\n      <td>Executive</td>\n      <td>Personal Accessories</td>\n    </tr>\n    <tr>\n      <th>2</th>\n      <td>M</td>\n      <td>39</td>\n      <td>Married</td>\n      <td>Student</td>\n      <td>Mountaineering Equipment</td>\n    </tr>\n    <tr>\n      <th>3</th>\n      <td>F</td>\n      <td>56</td>\n      <td>Single</td>\n      <td>Hospitality</td>\n      <td>Personal Accessories</td>\n    </tr>\n    <tr>\n      <th>4</th>\n      <td>M</td>\n      <td>45</td>\n      <td>Married</td>\n      <td>Retired</td>\n      <td>Golf Equipment</td>\n    </tr>\n    <tr>\n      <th>5</th>\n      <td>M</td>\n      <td>45</td>\n      <td>Married</td>\n      <td>Retired</td>\n      <td>Golf Equipment</td>\n    </tr>\n    <tr>\n      <th>6</th>\n      <td>M</td>\n      <td>39</td>\n      <td>Married</td>\n      <td>Student</td>\n      <td>Camping Equipment</td>\n    </tr>\n    <tr>\n      <th>7</th>\n      <td>M</td>\n      <td>49</td>\n      <td>Married</td>\n      <td>Student</td>\n      <td>Camping Equipment</td>\n    </tr>\n    <tr>\n      <th>8</th>\n      <td>F</td>\n      <td>49</td>\n      <td>Married</td>\n      <td>Retired</td>\n      <td>Outdoor Protection</td>\n    </tr>\n    <tr>\n      <th>9</th>\n      <td>M</td>\n      <td>47</td>\n      <td>Married</td>\n      <td>Retired</td>\n      <td>Golf Equipment</td>\n    </tr>\n    <tr>\n      <th>10</th>\n      <td>M</td>\n      <td>47</td>\n      <td>Married</td>\n      <td>Retired</td>\n      <td>Golf Equipment</td>\n    </tr>\n    <tr>\n      <th>11</th>\n      <td>M</td>\n      <td>21</td>\n      <td>Single</td>\n      <td>Retail</td>\n      <td>Mountaineering Equipment</td>\n    </tr>\n    <tr>\n      <th>12</th>\n      <td>F</td>\n      <td>66</td>\n      <td>Single</td>\n      <td>Executive</td>\n      <td>Personal Accessories</td>\n    </tr>\n    <tr>\n      <th>13</th>\n      <td>M</td>\n      <td>35</td>\n      <td>Married</td>\n      <td>Professional</td>\n      <td>Camping Equipment</td>\n    </tr>\n    <tr>\n      <th>14</th>\n      <td>M</td>\n      <td>20</td>\n      <td>Single</td>\n      <td>Sales</td>\n      <td>Mountaineering Equipment</td>\n    </tr>\n    <tr>\n      <th>15</th>\n      <td>M</td>\n      <td>20</td>\n      <td>Single</td>\n      <td>Sales</td>\n      <td>Mountaineering Equipment</td>\n    </tr>\n    <tr>\n      <th>16</th>\n      <td>M</td>\n      <td>20</td>\n      <td>Single</td>\n      <td>Sales</td>\n      <td>Mountaineering Equipment</td>\n    </tr>\n    <tr>\n      <th>17</th>\n      <td>F</td>\n      <td>37</td>\n      <td>Single</td>\n      <td>Executive</td>\n      <td>Personal Accessories</td>\n    </tr>\n    <tr>\n      <th>18</th>\n      <td>M</td>\n      <td>42</td>\n      <td>Married</td>\n      <td>Student</td>\n      <td>Camping Equipment</td>\n    </tr>\n    <tr>\n      <th>19</th>\n      <td>M</td>\n      <td>24</td>\n      <td>Married</td>\n      <td>Retail</td>\n      <td>Camping Equipment</td>\n    </tr>\n    <tr>\n      <th>20</th>\n      <td>F</td>\n      <td>24</td>\n      <td>Single</td>\n      <td>Retail</td>\n      <td>Personal Accessories</td>\n    </tr>\n    <tr>\n      <th>21</th>\n      <td>M</td>\n      <td>29</td>\n      <td>Single</td>\n      <td>Retail</td>\n      <td>Mountaineering Equipment</td>\n    </tr>\n    <tr>\n      <th>22</th>\n      <td>M</td>\n      <td>29</td>\n      <td>Married</td>\n      <td>Retail</td>\n      <td>Camping Equipment</td>\n    </tr>\n    <tr>\n      <th>23</th>\n      <td>M</td>\n      <td>43</td>\n      <td>Married</td>\n      <td>Trades</td>\n      <td>Camping Equipment</td>\n    </tr>\n    <tr>\n      <th>24</th>\n      <td>M</td>\n      <td>43</td>\n      <td>Married</td>\n      <td>Trades</td>\n      <td>Camping Equipment</td>\n    </tr>\n    <tr>\n      <th>25</th>\n      <td>M</td>\n      <td>43</td>\n      <td>Married</td>\n      <td>Hospitality</td>\n      <td>Camping Equipment</td>\n    </tr>\n    <tr>\n      <th>26</th>\n      <td>M</td>\n      <td>43</td>\n      <td>Married</td>\n      <td>Hospitality</td>\n      <td>Camping Equipment</td>\n    </tr>\n    <tr>\n      <th>27</th>\n      <td>M</td>\n      <td>43</td>\n      <td>Married</td>\n      <td>Hospitality</td>\n      <td>Camping Equipment</td>\n    </tr>\n    <tr>\n      <th>28</th>\n      <td>M</td>\n      <td>43</td>\n      <td>Married</td>\n      <td>Hospitality</td>\n      <td>Camping Equipment</td>\n    </tr>\n    <tr>\n      <th>29</th>\n      <td>M</td>\n      <td>29</td>\n      <td>Single</td>\n      <td>Student</td>\n      <td>Mountaineering Equipment</td>\n    </tr>\n    <tr>\n      <th>...</th>\n      <td>...</td>\n      <td>...</td>\n      <td>...</td>\n      <td>...</td>\n      <td>...</td>\n    </tr>\n    <tr>\n      <th>90231</th>\n      <td>M</td>\n      <td>24</td>\n      <td>Married</td>\n      <td>Trades</td>\n      <td>Camping Equipment</td>\n    </tr>\n    <tr>\n      <th>90232</th>\n      <td>M</td>\n      <td>24</td>\n      <td>Married</td>\n      <td>Trades</td>\n      <td>Camping Equipment</td>\n    </tr>\n    <tr>\n      <th>90233</th>\n      <td>F</td>\n      <td>33</td>\n      <td>Married</td>\n      <td>Student</td>\n      <td>Camping Equipment</td>\n    </tr>\n    <tr>\n      <th>90234</th>\n      <td>F</td>\n      <td>33</td>\n      <td>Married</td>\n      <td>Student</td>\n      <td>Camping Equipment</td>\n    </tr>\n    <tr>\n      <th>90235</th>\n      <td>F</td>\n      <td>33</td>\n      <td>Married</td>\n      <td>Retired</td>\n      <td>Outdoor Protection</td>\n    </tr>\n    <tr>\n      <th>90236</th>\n      <td>F</td>\n      <td>33</td>\n      <td>Married</td>\n      <td>Retired</td>\n      <td>Outdoor Protection</td>\n    </tr>\n    <tr>\n      <th>90237</th>\n      <td>F</td>\n      <td>22</td>\n      <td>Married</td>\n      <td>Student</td>\n      <td>Camping Equipment</td>\n    </tr>\n    <tr>\n      <th>90238</th>\n      <td>F</td>\n      <td>22</td>\n      <td>Married</td>\n      <td>Student</td>\n      <td>Camping Equipment</td>\n    </tr>\n    <tr>\n      <th>90239</th>\n      <td>F</td>\n      <td>43</td>\n      <td>Unspecified</td>\n      <td>Hospitality</td>\n      <td>Golf Equipment</td>\n    </tr>\n    <tr>\n      <th>90240</th>\n      <td>F</td>\n      <td>43</td>\n      <td>Unspecified</td>\n      <td>Hospitality</td>\n      <td>Golf Equipment</td>\n    </tr>\n    <tr>\n      <th>90241</th>\n      <td>F</td>\n      <td>43</td>\n      <td>Unspecified</td>\n      <td>Hospitality</td>\n      <td>Golf Equipment</td>\n    </tr>\n    <tr>\n      <th>90242</th>\n      <td>F</td>\n      <td>43</td>\n      <td>Unspecified</td>\n      <td>Hospitality</td>\n      <td>Golf Equipment</td>\n    </tr>\n    <tr>\n      <th>90243</th>\n      <td>M</td>\n      <td>44</td>\n      <td>Married</td>\n      <td>Trades</td>\n      <td>Camping Equipment</td>\n    </tr>\n    <tr>\n      <th>90244</th>\n      <td>M</td>\n      <td>44</td>\n      <td>Married</td>\n      <td>Trades</td>\n      <td>Golf Equipment</td>\n    </tr>\n    <tr>\n      <th>90245</th>\n      <td>M</td>\n      <td>44</td>\n      <td>Married</td>\n      <td>Trades</td>\n      <td>Golf Equipment</td>\n    </tr>\n    <tr>\n      <th>90246</th>\n      <td>M</td>\n      <td>44</td>\n      <td>Married</td>\n      <td>Trades</td>\n      <td>Camping Equipment</td>\n    </tr>\n    <tr>\n      <th>90247</th>\n      <td>F</td>\n      <td>26</td>\n      <td>Married</td>\n      <td>Professional</td>\n      <td>Mountaineering Equipment</td>\n    </tr>\n    <tr>\n      <th>90248</th>\n      <td>F</td>\n      <td>26</td>\n      <td>Married</td>\n      <td>Professional</td>\n      <td>Mountaineering Equipment</td>\n    </tr>\n    <tr>\n      <th>90249</th>\n      <td>F</td>\n      <td>26</td>\n      <td>Single</td>\n      <td>Professional</td>\n      <td>Personal Accessories</td>\n    </tr>\n    <tr>\n      <th>90250</th>\n      <td>F</td>\n      <td>28</td>\n      <td>Single</td>\n      <td>Executive</td>\n      <td>Personal Accessories</td>\n    </tr>\n    <tr>\n      <th>90251</th>\n      <td>F</td>\n      <td>28</td>\n      <td>Single</td>\n      <td>Executive</td>\n      <td>Personal Accessories</td>\n    </tr>\n    <tr>\n      <th>90252</th>\n      <td>F</td>\n      <td>41</td>\n      <td>Married</td>\n      <td>Student</td>\n      <td>Camping Equipment</td>\n    </tr>\n    <tr>\n      <th>90253</th>\n      <td>F</td>\n      <td>41</td>\n      <td>Married</td>\n      <td>Student</td>\n      <td>Camping Equipment</td>\n    </tr>\n    <tr>\n      <th>90254</th>\n      <td>F</td>\n      <td>41</td>\n      <td>Married</td>\n      <td>Student</td>\n      <td>Camping Equipment</td>\n    </tr>\n    <tr>\n      <th>90255</th>\n      <td>F</td>\n      <td>41</td>\n      <td>Married</td>\n      <td>Student</td>\n      <td>Camping Equipment</td>\n    </tr>\n    <tr>\n      <th>90256</th>\n      <td>M</td>\n      <td>28</td>\n      <td>Single</td>\n      <td>Professional</td>\n      <td>Personal Accessories</td>\n    </tr>\n    <tr>\n      <th>90257</th>\n      <td>M</td>\n      <td>28</td>\n      <td>Single</td>\n      <td>Professional</td>\n      <td>Personal Accessories</td>\n    </tr>\n    <tr>\n      <th>90258</th>\n      <td>M</td>\n      <td>28</td>\n      <td>Single</td>\n      <td>Professional</td>\n      <td>Personal Accessories</td>\n    </tr>\n    <tr>\n      <th>90259</th>\n      <td>F</td>\n      <td>42</td>\n      <td>Single</td>\n      <td>Executive</td>\n      <td>Personal Accessories</td>\n    </tr>\n    <tr>\n      <th>90260</th>\n      <td>F</td>\n      <td>42</td>\n      <td>Single</td>\n      <td>Executive</td>\n      <td>Personal Accessories</td>\n    </tr>\n  </tbody>\n</table>\n<p>90261 rows \u00d7 5 columns</p>\n</div>"
                    }, 
                    "execution_count": 5, 
                    "metadata": {}
                }
            ], 
            "execution_count": 5
        }, 
        {
            "source": "#indagine sui valori di una colonna\ndf_data_1['AGE'].describe()\n", 
            "cell_type": "code", 
            "metadata": {
                "scrolled": true
            }, 
            "outputs": [
                {
                    "output_type": "execute_result", 
                    "data": {
                        "text/plain": "count    90261.000000\nmean        34.179391\nstd         10.113063\nmin         17.000000\n25%         26.000000\n50%         33.000000\n75%         41.000000\nmax         69.000000\nName: AGE, dtype: float64"
                    }, 
                    "execution_count": 47, 
                    "metadata": {}
                }
            ], 
            "execution_count": 47
        }, 
        {
            "source": "df_data_2['PROFESSION'].describe()", 
            "cell_type": "code", 
            "metadata": {}, 
            "outputs": [
                {
                    "output_type": "execute_result", 
                    "data": {
                        "text/plain": "count       90261\nunique          9\ntop       Student\nfreq        20609\nName: PROFESSION, dtype: object"
                    }, 
                    "execution_count": 42, 
                    "metadata": {}
                }
            ], 
            "execution_count": 42
        }
    ], 
    "metadata": {
        "kernelspec": {
            "display_name": "Python 3.5 with Spark 2.1", 
            "name": "python3-spark21", 
            "language": "python"
        }, 
        "language_info": {
            "mimetype": "text/x-python", 
            "nbconvert_exporter": "python", 
            "version": "3.5.4", 
            "name": "python", 
            "pygments_lexer": "ipython3", 
            "file_extension": ".py", 
            "codemirror_mode": {
                "version": 3, 
                "name": "ipython"
            }
        }
    }, 
    "nbformat": 4
}